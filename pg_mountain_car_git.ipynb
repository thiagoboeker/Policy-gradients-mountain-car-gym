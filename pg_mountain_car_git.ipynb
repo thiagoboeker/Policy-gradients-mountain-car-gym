{
 "cells": [
  {
   "cell_type": "markdown",
   "metadata": {},
   "source": [
    "# Policy Gradients With OpemAIGym"
   ]
  },
  {
   "cell_type": "code",
   "execution_count": 1,
   "metadata": {},
   "outputs": [
    {
     "name": "stderr",
     "output_type": "stream",
     "text": [
      "C:\\Users\\thiag\\AppData\\Local\\Continuum\\anaconda3\\envs\\dlnd\\lib\\site-packages\\h5py\\__init__.py:36: FutureWarning: Conversion of the second argument of issubdtype from `float` to `np.floating` is deprecated. In future, it will be treated as `np.float64 == np.dtype(float).type`.\n",
      "  from ._conv import register_converters as _register_converters\n"
     ]
    }
   ],
   "source": [
    "#imports\n",
    "import numpy as np\n",
    "import tensorflow as tf\n",
    "import gym"
   ]
  },
  {
   "cell_type": "code",
   "execution_count": 2,
   "metadata": {},
   "outputs": [
    {
     "name": "stderr",
     "output_type": "stream",
     "text": [
      "[2018-04-01 11:00:46,336] Making new env: MountainCar-v0\n"
     ]
    }
   ],
   "source": [
    "#Create the enviroment\n",
    "env = gym.make('MountainCar-v0')"
   ]
  },
  {
   "cell_type": "code",
   "execution_count": 3,
   "metadata": {},
   "outputs": [],
   "source": [
    "#Hyperparameters\n",
    "n_inputs = 2 #obs[0] - position  obs[1] - action\n",
    "n_outputs = 3 # Number of possible actions \n",
    "learning_rate = 0.01\n",
    "n_hidden = 10\n",
    "initializer = tf.random_normal_initializer(mean = 0.0, stddev = 0.3) #Weights initializer\n",
    "b_initializer = tf.constant_initializer(0.1) #Bias initializer"
   ]
  },
  {
   "cell_type": "code",
   "execution_count": 4,
   "metadata": {},
   "outputs": [],
   "source": [
    "tf.reset_default_graph() #Reset the graph for new training\n",
    "X = tf.placeholder(tf.float32, shape=(None,n_inputs)) #obs placeholder\n",
    "y = tf.placeholder(tf.int64, shape = (None)) #choosed action in training placeholder\n",
    "hidden1 = tf.layers.dense(X, n_hidden, kernel_initializer = initializer, bias_initializer = b_initializer, activation = tf.nn.tanh)\n",
    "logits = tf.layers.dense(hidden1, n_outputs, kernel_initializer = initializer, bias_initializer = b_initializer)\n",
    "outputs = tf.nn.softmax(logits) #Probabilitys"
   ]
  },
  {
   "cell_type": "code",
   "execution_count": 5,
   "metadata": {},
   "outputs": [],
   "source": [
    "action = tf.multinomial(tf.log(outputs), num_samples = 3) \n",
    "#This actually display 3 integers\n",
    "#Which one will be the index of the probability target, see documentation\n",
    "\n",
    "loss = tf.nn.sparse_softmax_cross_entropy_with_logits(logits = outputs, labels = y) #Loss function\n",
    "\n",
    "optimizer = tf.train.AdamOptimizer(learning_rate = learning_rate) # The optimizer\n",
    "grad_and_vars = optimizer.compute_gradients(loss) # Get the gradients and vars of the loss function\n",
    "gradients = [grad for grad,var in grad_and_vars] #Get the gradients\n",
    "gradients_placeholders = [] # To store the gradients\n",
    "grad_and_vars_feed = [] # To store the placeholders with the vars\n",
    "for grad, var in grad_and_vars:\n",
    "    \n",
    "    grad_placeholder = tf.placeholder(tf.float32, shape = grad.get_shape()) #The respective grad placeholder\n",
    "    gradients_placeholders.append(grad_placeholder) # Store the placeholder\n",
    "    grad_and_vars_feed.append((grad_placeholder, var)) #Store the placeholder with his respective var\n",
    "\n",
    "training_op = optimizer.apply_gradients(grad_and_vars_feed) # OP to apply the placeholder value with each var"
   ]
  },
  {
   "cell_type": "code",
   "execution_count": 6,
   "metadata": {},
   "outputs": [],
   "source": [
    "#Function that apply the algorithm for future discount reward\n",
    "def discount_rewards(rewards, discount_rate):\n",
    "    discounted_rewards = np.empty(len(rewards))\n",
    "    cumulative_rewards = 0\n",
    "    for step in reversed(range(len(rewards))):\n",
    "        cumulative_rewards = cumulative_rewards * discount_rate + rewards[step]\n",
    "        discounted_rewards[step] = cumulative_rewards\n",
    "    \n",
    "    return discounted_rewards"
   ]
  },
  {
   "cell_type": "code",
   "execution_count": 7,
   "metadata": {},
   "outputs": [],
   "source": [
    "# This function apply the discount_rewards for every game in the n_game_per_iter, then normalize it\n",
    "def discount_and_normalized_rewards(all_rewards, discount_rate):\n",
    "    all_discount_rewards = [discount_rewards(rewards, discount_rate) for rewards in all_rewards]\n",
    "    flatten = np.concatenate(all_discount_rewards)\n",
    "    mean = flatten.mean()\n",
    "    std = flatten.std()\n",
    "    return [(discounted_rewards - mean)/std for discounted_rewards in all_discount_rewards]"
   ]
  },
  {
   "cell_type": "code",
   "execution_count": 8,
   "metadata": {},
   "outputs": [],
   "source": [
    "iterations = 501\n",
    "n_games_per_iter = 10 # Each iteration will play the game 10 times and store the rewards for every game\n",
    "discount_rate = 0.95\n",
    "init = tf.global_variables_initializer()\n",
    "saver = tf.train.Saver()"
   ]
  },
  {
   "cell_type": "code",
   "execution_count": 9,
   "metadata": {},
   "outputs": [
    {
     "name": "stdout",
     "output_type": "stream",
     "text": [
      "New maxHeight: -0.41046091990610933\n",
      "New maxHeight: -0.39565730363753354\n",
      "New maxHeight: -0.38156249510039253\n",
      "New maxHeight: -0.3675010133772656\n",
      "New maxHeight: -0.3555679415917142\n",
      "New maxHeight: -0.3448424023615244\n",
      "New maxHeight: -0.334394194162379\n",
      "New maxHeight: -0.3262900397713741\n",
      "New maxHeight: -0.3185807867652424\n",
      "New maxHeight: -0.31231404025873255\n",
      "New maxHeight: -0.3065279304494193\n",
      "New maxHeight: -0.30325719874120227\n",
      "New maxHeight: -0.30252128218076985\n",
      "Rewards: -1066.0\n",
      "New maxHeight: -0.2987407076634884\n",
      "New maxHeight: -0.2867143204598335\n",
      "New maxHeight: -0.27631875605437595\n",
      "New maxHeight: -0.2666123056359187\n",
      "New maxHeight: -0.25964791443928986\n",
      "New maxHeight: -0.25546266320487293\n",
      "New maxHeight: -0.2540784630422224\n",
      "New maxHeight: -0.24416867313861512\n",
      "New maxHeight: -0.23083692200465594\n",
      "New maxHeight: -0.22042928434521472\n",
      "New maxHeight: -0.212994651616248\n",
      "New maxHeight: -0.20856677419051028\n",
      "New maxHeight: -0.20716527967437962\n",
      "New maxHeight: -0.20013067987606445\n",
      "New maxHeight: -0.18949989629762912\n",
      "New maxHeight: -0.18197588682740293\n",
      "New maxHeight: -0.17558849237450705\n",
      "New maxHeight: -0.1723621922051637\n",
      "New maxHeight: -0.17030904982783307\n",
      "New maxHeight: -0.16772548172198287\n",
      "New maxHeight: -0.1636699037144566\n",
      "New maxHeight: -0.16081896873870727\n",
      "New maxHeight: -0.15918267800963887\n",
      "New maxHeight: -0.1587666985858282\n",
      "New maxHeight: -0.15294318506658286\n",
      "New maxHeight: -0.14924533785745478\n",
      "New maxHeight: -0.14780106452306857\n",
      "New maxHeight: -0.14761503336938622\n",
      "New maxHeight: -0.14243931385683994\n",
      "New maxHeight: -0.13596363204462442\n",
      "New maxHeight: -0.13078284895952327\n",
      "New maxHeight: -0.12691209992346209\n",
      "New maxHeight: -0.12436232907543301\n",
      "New maxHeight: -0.12314057473455668\n",
      "New maxHeight: -0.12265416717947489\n",
      "New maxHeight: -0.11922376180368105\n",
      "New maxHeight: -0.11713514300648993\n",
      "New maxHeight: -0.11639374887614368\n",
      "New maxHeight: -0.11543165736486215\n",
      "New maxHeight: -0.11214132249117988\n",
      "New maxHeight: -0.1102108406067583\n",
      "New maxHeight: -0.10964495169735612\n",
      "New maxHeight: -0.10707646041581491\n",
      "New maxHeight: -0.08977590048152226\n",
      "New maxHeight: -0.07488521555149662\n",
      "New maxHeight: -0.06243170781320713\n",
      "New maxHeight: -0.05143447878028741\n",
      "New maxHeight: -0.04190754681396858\n",
      "New maxHeight: -0.03486088313056318\n",
      "New maxHeight: -0.02930055999083723\n",
      "New maxHeight: -0.02523058468678805\n",
      "New maxHeight: -0.022653451249233552\n",
      "New maxHeight: -0.021570546771272122\n",
      "Rewards: -901.0\n",
      "Rewards: -948.0\n",
      "Rewards: -920.0\n",
      "Rewards: -925.0\n",
      "Rewards: -938.0\n",
      "New maxHeight: -0.017136151585738422\n",
      "New maxHeight: -0.004820108057853351\n",
      "New maxHeight: 0.0039961968416962566\n",
      "New maxHeight: 0.01031268139697255\n",
      "New maxHeight: 0.01413036231004148\n",
      "New maxHeight: 0.01445028914206693\n",
      "New maxHeight: 0.017960265014183022\n",
      "New maxHeight: 0.020659347758928498\n",
      "Rewards: -914.0\n",
      "New maxHeight: 0.028153007015988697\n",
      "New maxHeight: 0.03255828227968303\n",
      "New maxHeight: 0.03447547353490152\n",
      "New maxHeight: 0.041168418050952206\n",
      "New maxHeight: 0.04675439655040703\n",
      "New maxHeight: 0.04986492696082721\n",
      "New maxHeight: 0.05050337849138942\n",
      "New maxHeight: 0.06751458128173132\n",
      "New maxHeight: 0.08430651313764093\n",
      "New maxHeight: 0.09867798002413726\n",
      "New maxHeight: 0.10965819435221649\n",
      "New maxHeight: 0.11727247336702165\n",
      "New maxHeight: 0.12153988245072299\n",
      "New maxHeight: 0.12247164288392001\n",
      "New maxHeight: 0.12493709118170856\n",
      "New maxHeight: 0.1384921182784047\n",
      "New maxHeight: 0.14975983498709403\n",
      "New maxHeight: 0.15877565104798844\n",
      "New maxHeight: 0.16456975442844368\n",
      "New maxHeight: 0.1681624050152877\n",
      "New maxHeight: 0.16956649948081032\n",
      "Rewards: -949.0\n",
      "New maxHeight: 0.17402120255535833\n",
      "New maxHeight: 0.18069393236209255\n",
      "New maxHeight: 0.18522507092701337\n",
      "New maxHeight: 0.18663234837267004\n",
      "Rewards: -928.0\n",
      "New maxHeight: 0.1893252695223787\n",
      "New maxHeight: 0.19188176512588698\n",
      "New maxHeight: 0.19990892158504622\n",
      "New maxHeight: 0.20854101369569703\n",
      "New maxHeight: 0.21514660975012806\n",
      "New maxHeight: 0.21875511764205885\n",
      "New maxHeight: 0.21938293430400285\n",
      "New maxHeight: 0.2251233979157476\n",
      "New maxHeight: 0.23243583452691616\n",
      "New maxHeight: 0.23683183622150816\n",
      "New maxHeight: 0.2383327409320439\n",
      "Rewards: -955.0\n",
      "New maxHeight: 0.2511482988141955\n",
      "New maxHeight: 0.2681260569826771\n",
      "New maxHeight: 0.28236991681509577\n",
      "New maxHeight: 0.2949583972122105\n",
      "New maxHeight: 0.3049634123902786\n",
      "New maxHeight: 0.3124437336541697\n",
      "New maxHeight: 0.3184442020871212\n",
      "New maxHeight: 0.3230013274829308\n",
      "New maxHeight: 0.32514315075056593\n",
      "New maxHeight: 0.325635815797956\n",
      "New maxHeight: 0.3282842122063418\n",
      "New maxHeight: 0.3339644987618623\n",
      "New maxHeight: 0.33729801527724323\n",
      "New maxHeight: 0.3393058922176066\n",
      "New maxHeight: 0.3400009212086641\n",
      "New maxHeight: 0.35543846092819525\n",
      "New maxHeight: 0.37129347377566746\n",
      "New maxHeight: 0.38504553039963235\n",
      "New maxHeight: 0.39778810308007595\n",
      "New maxHeight: 0.40860933962419654\n",
      "New maxHeight: 0.41758515903721316\n",
      "New maxHeight: 0.42477921279212905\n",
      "New maxHeight: 0.43124292850574864\n",
      "New maxHeight: 0.436022803696951\n",
      "New maxHeight: 0.4401533893319404\n",
      "New maxHeight: 0.4436646508326653\n",
      "New maxHeight: 0.44658213568229943\n",
      "New maxHeight: 0.4479271213587584\n",
      "Rewards: -948.0\n"
     ]
    }
   ],
   "source": [
    "\n",
    "with tf.Session() as sess:\n",
    "    \n",
    "    init.run()\n",
    "    iter_height = -0.45\n",
    "    for iteration in range(iterations):\n",
    "        \n",
    "        all_rewards = [] # Store all the 10 games rewards\n",
    "        all_gradients = [] # Store all the 10 games gradients values\n",
    "        rewards_sum = [] # Store the rewards for tracking improvements\n",
    "        \n",
    "        for game in range(n_games_per_iter):\n",
    "            \n",
    "            current_rewards = [] # Store the rewards for the game\n",
    "            current_gradients = [] # Store the gradients of the game\n",
    "            \n",
    "            obs = env.reset() # Reset enviroment\n",
    "            \n",
    "            while True:\n",
    "                \n",
    "                previousHeight = obs[0] # Store the previous height\n",
    "                \n",
    "                all_acts = sess.run(action, feed_dict = {X:obs.reshape(1, n_inputs)}) # run the tf.multinomial function\n",
    "                \n",
    "                choosed_action = np.random.choice(all_acts.ravel()) # choose a random action\n",
    "                \n",
    "                # Run the gradients\n",
    "                gradients_val = sess.run(gradients, feed_dict = {X:obs.reshape(1, n_inputs), y:np.array([choosed_action])})\n",
    "                \n",
    "                # Run the step with the choosed action\n",
    "                obs_, reward, done, info = env.step(choosed_action)\n",
    "                \n",
    "                if obs_[0] > previousHeight:\n",
    "                    #This is tricky, the env dont give any positive reward to the agent, its just -1 for each time step\n",
    "                    #So i give a positive reward every time the agente reachs a higher height then the previou\n",
    "                    reward += 1\n",
    "                    \n",
    "                if obs_[0] > iter_height: # Compare with max height for all iterations\n",
    "                    # I'm tracking the max height that ever ocurred\n",
    "                    iter_height = obs_[0] # Update if is the case\n",
    "                    print(\"New maxHeight: {}\".format(iter_height)) #Print\n",
    "                    reward += 2 # I'm giving a even bigger reward when it's reaches the max height for all the iteration\n",
    "                    # Hoping this helps the agente figure it out \n",
    "                    \n",
    "                current_rewards.append(reward) # Append the step reward\n",
    "                rewards_sum.append(reward) \n",
    "                current_gradients.append(gradients_val) # Append the step gradient val\n",
    "                obs = obs_ # Upadate the previous obs\n",
    "                \n",
    "                if done:\n",
    "                    all_rewards.append(current_rewards) # Append all the steps rewards for the game\n",
    "                    all_gradients.append(current_gradients) # Append all the steps grad vals for the game\n",
    "                    break\n",
    "          \n",
    "        all_rewards = discount_and_normalized_rewards(all_rewards, discount_rate) # Apply discount and normalize the rewards\n",
    "        feed_dict = {}\n",
    "        for var_index, grad_placeholder in enumerate(gradients_placeholders):\n",
    "            \n",
    "            #Calculate the mean of all the grad values for each game and each game step\n",
    "            mean_gradient = np.mean([reward * all_gradients[game_index][step][var_index] for game_index, rewards\\\n",
    "                                     in enumerate(all_rewards) for step, reward in enumerate(rewards)], axis = 0)\n",
    "            \n",
    "            feed_dict[grad_placeholder] = mean_gradient # Store the value in the respective grad placeholder\n",
    "        \n",
    "        sess.run(training_op, feed_dict = feed_dict) # Run the optimizer for the apply_gradients function\n",
    "        \n",
    "        if iteration % 50 == 0:\n",
    "            print(\"Rewards: {}\".format(sum(rewards_sum))) # Print the sum of the rewards for all games\n",
    "            saver.save(sess, './logs/pg_net6.ckpt') # Save the iteration\n",
    "            \n"
   ]
  },
  {
   "cell_type": "code",
   "execution_count": 10,
   "metadata": {},
   "outputs": [
    {
     "name": "stdout",
     "output_type": "stream",
     "text": [
      "INFO:tensorflow:Restoring parameters from ./logs/pg_net6.ckpt\n"
     ]
    },
    {
     "name": "stderr",
     "output_type": "stream",
     "text": [
      "[2018-04-01 11:38:47,058] Restoring parameters from ./logs/pg_net6.ckpt\n"
     ]
    }
   ],
   "source": [
    "#Code to see the agente playing the game\n",
    "with tf.Session() as sess:\n",
    "    saver.restore(sess, './logs/pg_net6.ckpt')\n",
    "    \n",
    "    for game in range(30):\n",
    "        \n",
    "        obs = env.reset()\n",
    "        \n",
    "        while True:\n",
    "            \n",
    "            action = sess.run(outputs, feed_dict = {X:obs.reshape(1, n_inputs)})\n",
    "            choose_action = np.argmax(action, 1)\n",
    "            obs, reward, done, info = env.step(choose_action[0])\n",
    "            env.render()\n",
    "            if done:\n",
    "                break"
   ]
  },
  {
   "cell_type": "raw",
   "metadata": {},
   "source": [
    "In the training didnt showed that he surpass the limit of 0.5 but that was because of the low number of iteractions, so most of the time the agente will win the game as suposed, but sometimes he will didnt even realize what to do or just try and lose, with more training the agente certainly perform better, but my cpu power is limited now"
   ]
  },
  {
   "cell_type": "code",
   "execution_count": null,
   "metadata": {},
   "outputs": [],
   "source": []
  }
 ],
 "metadata": {
  "kernelspec": {
   "display_name": "Python 3",
   "language": "python",
   "name": "python3"
  },
  "language_info": {
   "codemirror_mode": {
    "name": "ipython",
    "version": 3
   },
   "file_extension": ".py",
   "mimetype": "text/x-python",
   "name": "python",
   "nbconvert_exporter": "python",
   "pygments_lexer": "ipython3",
   "version": "3.6.4"
  }
 },
 "nbformat": 4,
 "nbformat_minor": 2
}
